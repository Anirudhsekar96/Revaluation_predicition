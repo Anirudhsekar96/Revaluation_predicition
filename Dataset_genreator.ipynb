{
 "cells": [
  {
   "cell_type": "code",
   "execution_count": 1,
   "metadata": {
    "collapsed": true
   },
   "outputs": [],
   "source": [
    "import numpy as np\n",
    "import pandas as pd\n",
    "import matplotlib.pyplot as plt\n",
    "%matplotlib inline"
   ]
  },
  {
   "cell_type": "code",
   "execution_count": 2,
   "metadata": {
    "collapsed": true
   },
   "outputs": [],
   "source": [
    "marks = []                                 # Creating a List for Marks\n",
    "next_marks = []                            #Creating a List for Marks which are required for the next possible grade"
   ]
  },
  {
   "cell_type": "code",
   "execution_count": 3,
   "metadata": {
    "collapsed": true
   },
   "outputs": [],
   "source": [
    "for i in range(1,10000,1):\n",
    "    x = np.floor(np.random.randint(50,100,1));           # Setting pass as 50 marks\n",
    "    marks.append(int(x));  \n",
    "    y = np.floor(np.random.randint(x,100,1));            #Setting next mark needed as from range of mark obtained to 100\n",
    "    next_marks.append(int(y));"
   ]
  },
  {
   "cell_type": "code",
   "execution_count": 4,
   "metadata": {
    "collapsed": true
   },
   "outputs": [],
   "source": [
    "diffrence = []                            #Creating a list to store the diffrence between marks and the next marks needed"
   ]
  },
  {
   "cell_type": "code",
   "execution_count": 5,
   "metadata": {
    "collapsed": true
   },
   "outputs": [],
   "source": [
    "for i in range(0,9999,1):\n",
    "    diffrence.append(int(next_marks[i]-marks[i])+0.1)              # Calculating the number of marks needed to secure the next grade"
   ]
  },
  {
   "cell_type": "code",
   "execution_count": 6,
   "metadata": {
    "collapsed": true
   },
   "outputs": [],
   "source": [
    "prob= [];\n",
    "for i in range(0,9999,1):\n",
    "    prob.append(1/diffrence[i]);                                #calculating a rough probablity of a person applying for Revaluation"
   ]
  },
  {
   "cell_type": "code",
   "execution_count": 7,
   "metadata": {
    "collapsed": true
   },
   "outputs": [],
   "source": [
    "new_prob_val = [1 if x > 1 else x for x in prob]          #Replacing probablity values higher than 1 with 1"
   ]
  },
  {
   "cell_type": "code",
   "execution_count": 8,
   "metadata": {
    "collapsed": true
   },
   "outputs": [],
   "source": [
    "Applied_or_not = []"
   ]
  },
  {
   "cell_type": "code",
   "execution_count": 9,
   "metadata": {
    "collapsed": true
   },
   "outputs": [],
   "source": [
    "for i in range(0,9999,1):\n",
    "    x= np.random.randint(0,1000,1);                                 # Calculating a random number for checking if the person has applied for Revaluation or not\n",
    "    if(x<=(new_prob_val[i]*1000)):                                 # if within threshold, put the answer as 1\n",
    "        Applied_or_not.append(1);\n",
    "    else:                                                          #else put it as 0\n",
    "        Applied_or_not.append(0);\n",
    "    # 0 means not applied and 1 meand applied"
   ]
  },
  {
   "cell_type": "code",
   "execution_count": 10,
   "metadata": {
    "collapsed": true
   },
   "outputs": [],
   "source": [
    "student_data = {\"Marks\": marks,\"NextMarks\": next_marks,\"Applied\": Applied_or_not}"
   ]
  },
  {
   "cell_type": "code",
   "execution_count": 11,
   "metadata": {
    "collapsed": true
   },
   "outputs": [],
   "source": [
    "df = pd.DataFrame(data=student_data)"
   ]
  },
  {
   "cell_type": "code",
   "execution_count": 12,
   "metadata": {
    "collapsed": true
   },
   "outputs": [],
   "source": [
    "df.to_csv(\"data3.csv\",index=False)"
   ]
  },
  {
   "cell_type": "code",
   "execution_count": null,
   "metadata": {
    "collapsed": true
   },
   "outputs": [],
   "source": []
  }
 ],
 "metadata": {
  "anaconda-cloud": {},
  "kernelspec": {
   "display_name": "Python [Database Research Project]",
   "language": "python",
   "name": "Python [Database Research Project]"
  },
  "language_info": {
   "codemirror_mode": {
    "name": "ipython",
    "version": 2
   },
   "file_extension": ".py",
   "mimetype": "text/x-python",
   "name": "python",
   "nbconvert_exporter": "python",
   "pygments_lexer": "ipython2",
   "version": "2.7.12"
  }
 },
 "nbformat": 4,
 "nbformat_minor": 1
}
