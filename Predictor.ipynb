{
 "cells": [
  {
   "cell_type": "code",
   "execution_count": 1,
   "metadata": {
    "collapsed": true
   },
   "outputs": [],
   "source": [
    "import numpy as np\n",
    "import pandas as pd"
   ]
  },
  {
   "cell_type": "code",
   "execution_count": 2,
   "metadata": {
    "collapsed": true
   },
   "outputs": [],
   "source": [
    "from sklearn.externals import joblib\n",
    "clf = joblib.load('ensemble_GBC_LR.pkl') "
   ]
  },
  {
   "cell_type": "markdown",
   "metadata": {},
   "source": [
    "# Please note, the Range of values for marks is from 50 to 100 and the range of Next Marks is for marks to 100,\n",
    "\n",
    "# i.e. it means that the next mark will always be equal or greater than the marks specified"
   ]
  },
  {
   "cell_type": "code",
   "execution_count": 5,
   "metadata": {},
   "outputs": [
    {
     "name": "stdout",
     "output_type": "stream",
     "text": [
      "Enter Marks: 89\n",
      "Enter Marks for the next grade: 91\n",
      " The Probablility of Applying or not for Revaluation\n",
      "   Not Apply   Apply\n",
      "[[ 0.31892058  0.68107942]]\n",
      "The Student will apply or not ---> 0 for not apply and 1 for apply\n",
      "[1]\n"
     ]
    }
   ],
   "source": [
    "x=[]\n",
    "y=[]\n",
    "x.append(int(input(\"Enter Marks: \")))\n",
    "y.append(int(input(\"Enter Marks for the next grade: \")))\n",
    "\n",
    "new_val = {\"Marks\": x,\"NextMarks\": y}\n",
    "df= pd.DataFrame(data=new_val)\n",
    "#print df\n",
    "\n",
    "\n",
    "print \" The Probablility of Applying or not for Revaluation\"\n",
    "\n",
    "print \"   Not Apply   \" + \"Apply\" \n",
    "print clf.predict_proba(df.values)\n",
    "\n",
    "\n",
    "print \"The Student will apply or not ---> 0 for not apply and 1 for apply\" \n",
    "print clf.predict(df.values)"
   ]
  },
  {
   "cell_type": "code",
   "execution_count": null,
   "metadata": {
    "collapsed": true
   },
   "outputs": [],
   "source": []
  },
  {
   "cell_type": "code",
   "execution_count": null,
   "metadata": {
    "collapsed": true
   },
   "outputs": [],
   "source": []
  }
 ],
 "metadata": {
  "anaconda-cloud": {},
  "kernelspec": {
   "display_name": "Python [Root]",
   "language": "python",
   "name": "Python [Root]"
  },
  "language_info": {
   "codemirror_mode": {
    "name": "ipython",
    "version": 2
   },
   "file_extension": ".py",
   "mimetype": "text/x-python",
   "name": "python",
   "nbconvert_exporter": "python",
   "pygments_lexer": "ipython2",
   "version": "2.7.11"
  }
 },
 "nbformat": 4,
 "nbformat_minor": 1
}
